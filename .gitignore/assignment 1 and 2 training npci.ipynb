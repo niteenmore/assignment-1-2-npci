{
 "cells": [
  {
   "cell_type": "code",
   "execution_count": 2,
   "id": "14de9fa3",
   "metadata": {},
   "outputs": [
    {
     "name": "stdout",
     "output_type": "stream",
     "text": [
      "(3, 5)\n",
      "(4, 5)\n"
     ]
    }
   ],
   "source": [
    "arr = [1,2,3,5,5]\n",
    "for i in range(0,len(arr)):\n",
    "    if arr[i] == 5:\n",
    "        print((i,arr[i]))\n",
    "    else:\n",
    "        continue\n",
    "## for all occurences"
   ]
  },
  {
   "cell_type": "code",
   "execution_count": 1,
   "id": "aa4f37ca",
   "metadata": {},
   "outputs": [
    {
     "name": "stdout",
     "output_type": "stream",
     "text": [
      "3 5\n"
     ]
    }
   ],
   "source": [
    "## for only first occurence\n",
    "arr = [1,2,3,5,5]\n",
    "for i in range(0,len(arr)):\n",
    "    if arr[i] == 5:\n",
    "        print(i,arr[i])\n",
    "        break\n",
    "            \n",
    "        \n",
    "    \n",
    "        \n",
    "    \n",
    "        "
   ]
  },
  {
   "cell_type": "code",
   "execution_count": 3,
   "id": "6440d264",
   "metadata": {},
   "outputs": [
    {
     "name": "stdout",
     "output_type": "stream",
     "text": [
      "2\n",
      "3\n",
      "4\n",
      "8\n"
     ]
    }
   ],
   "source": [
    "## assignment 1\n",
    "arr = [8,2,3,4]\n",
    "temp = 0\n",
    "for i in range(0,len(arr)):\n",
    "    for j in range(i+1,len(arr)):\n",
    "        if( arr[i] > arr[j]):\n",
    "            temp = arr[i]\n",
    "            arr[i] = arr[j]\n",
    "            arr[j] = temp\n",
    "for i in range(0,len(arr)):\n",
    "    \n",
    "    print(arr[i])\n"
   ]
  },
  {
   "cell_type": "code",
   "execution_count": null,
   "id": "559a56da",
   "metadata": {},
   "outputs": [],
   "source": []
  }
 ],
 "metadata": {
  "kernelspec": {
   "display_name": "Python 3",
   "language": "python",
   "name": "python3"
  },
  "language_info": {
   "codemirror_mode": {
    "name": "ipython",
    "version": 3
   },
   "file_extension": ".py",
   "mimetype": "text/x-python",
   "name": "python",
   "nbconvert_exporter": "python",
   "pygments_lexer": "ipython3",
   "version": "3.8.8"
  }
 },
 "nbformat": 4,
 "nbformat_minor": 5
}
